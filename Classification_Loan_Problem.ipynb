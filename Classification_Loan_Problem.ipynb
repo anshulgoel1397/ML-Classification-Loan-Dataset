{
 "cells": [
  {
   "cell_type": "markdown",
   "id": "ac11660d",
   "metadata": {},
   "source": [
    "## Installing required libraries"
   ]
  },
  {
   "cell_type": "code",
   "execution_count": 1,
   "id": "f0fe6f63",
   "metadata": {},
   "outputs": [],
   "source": [
    "import pandas as pd\n",
    "import numpy as np\n",
    "import seaborn as sn\n",
    "import matplotlib.pyplot as plt\n",
    "from sklearn.model_selection import train_test_split\n",
    "from sklearn import tree\n",
    "from sklearn.tree import DecisionTreeClassifier\n",
    "from sklearn.ensemble import RandomForestClassifier\n",
    "from sklearn.metrics import classification_report\n",
    "from imblearn.over_sampling import SMOTE\n",
    "from sklearn.linear_model import LinearRegression\n",
    "import imblearn\n",
    "from sklearn.linear_model import LogisticRegression\n",
    "from sklearn.datasets import make_regression"
   ]
  },
  {
   "cell_type": "code",
   "execution_count": 2,
   "id": "ba6b9a25",
   "metadata": {},
   "outputs": [],
   "source": [
    "loan=pd.read_csv(\"Classification_Loan_Data.csv\")"
   ]
  },
  {
   "cell_type": "code",
   "execution_count": 3,
   "id": "f03fd167",
   "metadata": {},
   "outputs": [
    {
     "data": {
      "text/plain": [
       "(614, 13)"
      ]
     },
     "execution_count": 3,
     "metadata": {},
     "output_type": "execute_result"
    }
   ],
   "source": [
    "loan.shape"
   ]
  },
  {
   "cell_type": "code",
   "execution_count": 4,
   "id": "53f7bb2d",
   "metadata": {},
   "outputs": [
    {
     "data": {
      "text/plain": [
       "ID                            0\n",
       "Income_of_Applicant           0\n",
       "Income_of_Joint_Applicant     0\n",
       "Loan_Amount_Requirement      22\n",
       "Loan_Amount_Term             14\n",
       "Credit_History               50\n",
       "Gender                       13\n",
       "Is_Married                    3\n",
       "No_of_Dependents             15\n",
       "Level_of_Education            0\n",
       "IS_Self_Employed             32\n",
       "Area_of_Property              0\n",
       "Loan_Status                   0\n",
       "dtype: int64"
      ]
     },
     "execution_count": 4,
     "metadata": {},
     "output_type": "execute_result"
    }
   ],
   "source": [
    "loan.isna().sum(axis=0)"
   ]
  },
  {
   "cell_type": "markdown",
   "id": "624ef7dd",
   "metadata": {},
   "source": [
    "## The provided dataset has missing values in many columns. \n",
    "## Some of these columns have categorical values while some have continuous.\n",
    "## Missing values can be either imputed or their row/column entries can be deleted. \n",
    "## While replacing missing values, there is a chance that we may end up building biased model\n",
    "\n",
    "## First, we will have a look at categorical variables IS_Self_Employed,Loan_Amount_Term, Credit_History and No_of_Dependents"
   ]
  },
  {
   "cell_type": "code",
   "execution_count": 5,
   "id": "78bc2a89",
   "metadata": {},
   "outputs": [
    {
     "data": {
      "text/plain": [
       "No     500\n",
       "Yes     82\n",
       "Name: IS_Self_Employed, dtype: int64"
      ]
     },
     "execution_count": 5,
     "metadata": {},
     "output_type": "execute_result"
    }
   ],
   "source": [
    "loan.IS_Self_Employed.value_counts()"
   ]
  },
  {
   "cell_type": "code",
   "execution_count": 6,
   "id": "c6362d8c",
   "metadata": {},
   "outputs": [],
   "source": [
    "loan.IS_Self_Employed.replace(('Yes','No'),(1,0),inplace=True)"
   ]
  },
  {
   "cell_type": "code",
   "execution_count": 7,
   "id": "56320c75",
   "metadata": {},
   "outputs": [],
   "source": [
    "loan['IS_Self_Employed'].fillna(loan['IS_Self_Employed'].mode()[0].astype(int), inplace=True)"
   ]
  },
  {
   "cell_type": "code",
   "execution_count": 8,
   "id": "4cb5feed",
   "metadata": {},
   "outputs": [
    {
     "data": {
      "text/plain": [
       "ID                            0\n",
       "Income_of_Applicant           0\n",
       "Income_of_Joint_Applicant     0\n",
       "Loan_Amount_Requirement      22\n",
       "Loan_Amount_Term             14\n",
       "Credit_History               50\n",
       "Gender                       13\n",
       "Is_Married                    3\n",
       "No_of_Dependents             15\n",
       "Level_of_Education            0\n",
       "IS_Self_Employed              0\n",
       "Area_of_Property              0\n",
       "Loan_Status                   0\n",
       "dtype: int64"
      ]
     },
     "execution_count": 8,
     "metadata": {},
     "output_type": "execute_result"
    }
   ],
   "source": [
    "loan.isna().sum(axis=0)"
   ]
  },
  {
   "cell_type": "code",
   "execution_count": 9,
   "id": "70ae98b7",
   "metadata": {},
   "outputs": [
    {
     "data": {
      "text/plain": [
       "360.0    512\n",
       "180.0     44\n",
       "480.0     15\n",
       "300.0     13\n",
       "240.0      4\n",
       "84.0       4\n",
       "120.0      3\n",
       "60.0       2\n",
       "36.0       2\n",
       "12.0       1\n",
       "Name: Loan_Amount_Term, dtype: int64"
      ]
     },
     "execution_count": 9,
     "metadata": {},
     "output_type": "execute_result"
    }
   ],
   "source": [
    "loan.Loan_Amount_Term.value_counts()"
   ]
  },
  {
   "cell_type": "code",
   "execution_count": 10,
   "id": "de1227bd",
   "metadata": {},
   "outputs": [],
   "source": [
    "loan['Loan_Amount_Term'].fillna(loan['Loan_Amount_Term'].mode()[0].astype(int),inplace=True)"
   ]
  },
  {
   "cell_type": "code",
   "execution_count": 11,
   "id": "4c9b27bc",
   "metadata": {},
   "outputs": [
    {
     "data": {
      "text/plain": [
       "1.0    475\n",
       "0.0     89\n",
       "Name: Credit_History, dtype: int64"
      ]
     },
     "execution_count": 11,
     "metadata": {},
     "output_type": "execute_result"
    }
   ],
   "source": [
    "loan.Credit_History.value_counts()"
   ]
  },
  {
   "cell_type": "code",
   "execution_count": 12,
   "id": "fe0a0c9a",
   "metadata": {},
   "outputs": [],
   "source": [
    "loan['Credit_History'].fillna(loan['Credit_History'].mode()[0].astype(int), inplace=True)"
   ]
  },
  {
   "cell_type": "code",
   "execution_count": 13,
   "id": "fe9fac9b",
   "metadata": {},
   "outputs": [
    {
     "data": {
      "text/plain": [
       "0     345\n",
       "1     102\n",
       "2     101\n",
       "3+     51\n",
       "Name: No_of_Dependents, dtype: int64"
      ]
     },
     "execution_count": 13,
     "metadata": {},
     "output_type": "execute_result"
    }
   ],
   "source": [
    "loan.No_of_Dependents.value_counts()"
   ]
  },
  {
   "cell_type": "code",
   "execution_count": 14,
   "id": "9b6a7945",
   "metadata": {},
   "outputs": [],
   "source": [
    "loan.No_of_Dependents.replace(('3+'),(3),inplace=True)"
   ]
  },
  {
   "cell_type": "code",
   "execution_count": 15,
   "id": "84eb446c",
   "metadata": {},
   "outputs": [
    {
     "data": {
      "text/plain": [
       "0    345\n",
       "1    102\n",
       "2    101\n",
       "3     51\n",
       "Name: No_of_Dependents, dtype: int64"
      ]
     },
     "execution_count": 15,
     "metadata": {},
     "output_type": "execute_result"
    }
   ],
   "source": [
    "loan.No_of_Dependents.value_counts()"
   ]
  },
  {
   "cell_type": "code",
   "execution_count": 16,
   "id": "8e29c0ea",
   "metadata": {},
   "outputs": [],
   "source": [
    "loan['No_of_Dependents'].fillna(loan['No_of_Dependents'].mode()[0],inplace=True)"
   ]
  },
  {
   "cell_type": "code",
   "execution_count": 17,
   "id": "93aa08ad",
   "metadata": {},
   "outputs": [
    {
     "data": {
      "text/plain": [
       "ID                            0\n",
       "Income_of_Applicant           0\n",
       "Income_of_Joint_Applicant     0\n",
       "Loan_Amount_Requirement      22\n",
       "Loan_Amount_Term              0\n",
       "Credit_History                0\n",
       "Gender                       13\n",
       "Is_Married                    3\n",
       "No_of_Dependents              0\n",
       "Level_of_Education            0\n",
       "IS_Self_Employed              0\n",
       "Area_of_Property              0\n",
       "Loan_Status                   0\n",
       "dtype: int64"
      ]
     },
     "execution_count": 17,
     "metadata": {},
     "output_type": "execute_result"
    }
   ],
   "source": [
    "loan.isna().sum(axis=0)"
   ]
  },
  {
   "cell_type": "code",
   "execution_count": 18,
   "id": "0ad8b156",
   "metadata": {},
   "outputs": [
    {
     "data": {
      "text/html": [
       "<div>\n",
       "<style scoped>\n",
       "    .dataframe tbody tr th:only-of-type {\n",
       "        vertical-align: middle;\n",
       "    }\n",
       "\n",
       "    .dataframe tbody tr th {\n",
       "        vertical-align: top;\n",
       "    }\n",
       "\n",
       "    .dataframe thead th {\n",
       "        text-align: right;\n",
       "    }\n",
       "</style>\n",
       "<table border=\"1\" class=\"dataframe\">\n",
       "  <thead>\n",
       "    <tr style=\"text-align: right;\">\n",
       "      <th></th>\n",
       "      <th>ID</th>\n",
       "      <th>Income_of_Applicant</th>\n",
       "      <th>Income_of_Joint_Applicant</th>\n",
       "      <th>Loan_Amount_Requirement</th>\n",
       "      <th>Loan_Amount_Term</th>\n",
       "      <th>Credit_History</th>\n",
       "      <th>Gender</th>\n",
       "      <th>Is_Married</th>\n",
       "      <th>No_of_Dependents</th>\n",
       "      <th>Level_of_Education</th>\n",
       "      <th>IS_Self_Employed</th>\n",
       "      <th>Area_of_Property</th>\n",
       "      <th>Loan_Status</th>\n",
       "    </tr>\n",
       "  </thead>\n",
       "  <tbody>\n",
       "    <tr>\n",
       "      <th>0</th>\n",
       "      <td>1</td>\n",
       "      <td>5849</td>\n",
       "      <td>0.0</td>\n",
       "      <td>NaN</td>\n",
       "      <td>360.0</td>\n",
       "      <td>1.0</td>\n",
       "      <td>Male</td>\n",
       "      <td>No</td>\n",
       "      <td>0</td>\n",
       "      <td>Graduate</td>\n",
       "      <td>0.0</td>\n",
       "      <td>Urban</td>\n",
       "      <td>Y</td>\n",
       "    </tr>\n",
       "    <tr>\n",
       "      <th>1</th>\n",
       "      <td>2</td>\n",
       "      <td>4583</td>\n",
       "      <td>1508.0</td>\n",
       "      <td>128.0</td>\n",
       "      <td>360.0</td>\n",
       "      <td>1.0</td>\n",
       "      <td>Male</td>\n",
       "      <td>Yes</td>\n",
       "      <td>1</td>\n",
       "      <td>Graduate</td>\n",
       "      <td>0.0</td>\n",
       "      <td>Rural</td>\n",
       "      <td>N</td>\n",
       "    </tr>\n",
       "    <tr>\n",
       "      <th>2</th>\n",
       "      <td>3</td>\n",
       "      <td>3000</td>\n",
       "      <td>0.0</td>\n",
       "      <td>66.0</td>\n",
       "      <td>360.0</td>\n",
       "      <td>1.0</td>\n",
       "      <td>Male</td>\n",
       "      <td>Yes</td>\n",
       "      <td>0</td>\n",
       "      <td>Graduate</td>\n",
       "      <td>1.0</td>\n",
       "      <td>Urban</td>\n",
       "      <td>Y</td>\n",
       "    </tr>\n",
       "    <tr>\n",
       "      <th>3</th>\n",
       "      <td>4</td>\n",
       "      <td>2583</td>\n",
       "      <td>2358.0</td>\n",
       "      <td>120.0</td>\n",
       "      <td>360.0</td>\n",
       "      <td>1.0</td>\n",
       "      <td>Male</td>\n",
       "      <td>Yes</td>\n",
       "      <td>0</td>\n",
       "      <td>Not Graduate</td>\n",
       "      <td>0.0</td>\n",
       "      <td>Urban</td>\n",
       "      <td>Y</td>\n",
       "    </tr>\n",
       "    <tr>\n",
       "      <th>4</th>\n",
       "      <td>5</td>\n",
       "      <td>6000</td>\n",
       "      <td>0.0</td>\n",
       "      <td>141.0</td>\n",
       "      <td>360.0</td>\n",
       "      <td>1.0</td>\n",
       "      <td>Male</td>\n",
       "      <td>No</td>\n",
       "      <td>0</td>\n",
       "      <td>Graduate</td>\n",
       "      <td>0.0</td>\n",
       "      <td>Urban</td>\n",
       "      <td>Y</td>\n",
       "    </tr>\n",
       "  </tbody>\n",
       "</table>\n",
       "</div>"
      ],
      "text/plain": [
       "   ID  Income_of_Applicant  Income_of_Joint_Applicant  \\\n",
       "0   1                 5849                        0.0   \n",
       "1   2                 4583                     1508.0   \n",
       "2   3                 3000                        0.0   \n",
       "3   4                 2583                     2358.0   \n",
       "4   5                 6000                        0.0   \n",
       "\n",
       "   Loan_Amount_Requirement  Loan_Amount_Term  Credit_History Gender  \\\n",
       "0                      NaN             360.0             1.0   Male   \n",
       "1                    128.0             360.0             1.0   Male   \n",
       "2                     66.0             360.0             1.0   Male   \n",
       "3                    120.0             360.0             1.0   Male   \n",
       "4                    141.0             360.0             1.0   Male   \n",
       "\n",
       "  Is_Married No_of_Dependents Level_of_Education  IS_Self_Employed  \\\n",
       "0         No                0           Graduate               0.0   \n",
       "1        Yes                1           Graduate               0.0   \n",
       "2        Yes                0           Graduate               1.0   \n",
       "3        Yes                0       Not Graduate               0.0   \n",
       "4         No                0           Graduate               0.0   \n",
       "\n",
       "  Area_of_Property Loan_Status  \n",
       "0            Urban           Y  \n",
       "1            Rural           N  \n",
       "2            Urban           Y  \n",
       "3            Urban           Y  \n",
       "4            Urban           Y  "
      ]
     },
     "execution_count": 18,
     "metadata": {},
     "output_type": "execute_result"
    }
   ],
   "source": [
    "loan.head(5)"
   ]
  },
  {
   "cell_type": "markdown",
   "id": "0a9fb7c1",
   "metadata": {},
   "source": [
    "## All of the four categorical values are replaced by their mode as the data was highly skewed."
   ]
  },
  {
   "cell_type": "code",
   "execution_count": 19,
   "id": "0e8182d4",
   "metadata": {},
   "outputs": [
    {
     "data": {
      "text/plain": [
       "ID                            0\n",
       "Income_of_Applicant           0\n",
       "Income_of_Joint_Applicant     0\n",
       "Loan_Amount_Requirement      22\n",
       "Loan_Amount_Term              0\n",
       "Credit_History                0\n",
       "Gender                       13\n",
       "Is_Married                    3\n",
       "No_of_Dependents              0\n",
       "Level_of_Education            0\n",
       "IS_Self_Employed              0\n",
       "Area_of_Property              0\n",
       "Loan_Status                   0\n",
       "dtype: int64"
      ]
     },
     "execution_count": 19,
     "metadata": {},
     "output_type": "execute_result"
    }
   ],
   "source": [
    "loan.isna().sum(axis=0)"
   ]
  },
  {
   "cell_type": "markdown",
   "id": "2e558cf3",
   "metadata": {},
   "source": [
    "## Now, we are left with three columns which have missing values, Loan_Amount_Requirement, Gender and Is_Married\n",
    "\n",
    "## Keeping Gender criteria in our model can introduce unfairness as loan status of male and female with same characteristics can turn out to be different. This will not be accepted by regulating authorities.\n"
   ]
  },
  {
   "cell_type": "code",
   "execution_count": 20,
   "id": "ec2eebd5",
   "metadata": {},
   "outputs": [],
   "source": [
    "loan.drop('ID',inplace=True,axis=1)"
   ]
  },
  {
   "cell_type": "code",
   "execution_count": 21,
   "id": "4a86467d",
   "metadata": {},
   "outputs": [],
   "source": [
    "loan.drop('Gender',inplace=True,axis=1)"
   ]
  },
  {
   "cell_type": "markdown",
   "id": "a0c99ce9",
   "metadata": {},
   "source": [
    "## Now, we are left with variable Loan_Amount_Requirement and IS_Married with missing values"
   ]
  },
  {
   "cell_type": "code",
   "execution_count": 22,
   "id": "60a432e5",
   "metadata": {},
   "outputs": [
    {
     "data": {
      "text/plain": [
       "(array([ 2.,  7., 14., 17., 32., 32., 68., 74., 88., 48., 52., 22., 44.,\n",
       "        14., 11.,  6.,  6.,  7.,  9.,  5.,  4.,  5.,  3.,  1.,  2.,  1.,\n",
       "         3.,  0.,  2.,  0.,  1.,  0.,  0.,  0.,  4.,  3.,  0.,  0.,  0.,\n",
       "         0.,  1.,  0.,  2.,  0.,  0.,  0.,  1.,  0.,  0.,  1.]),\n",
       " array([  9.  ,  22.82,  36.64,  50.46,  64.28,  78.1 ,  91.92, 105.74,\n",
       "        119.56, 133.38, 147.2 , 161.02, 174.84, 188.66, 202.48, 216.3 ,\n",
       "        230.12, 243.94, 257.76, 271.58, 285.4 , 299.22, 313.04, 326.86,\n",
       "        340.68, 354.5 , 368.32, 382.14, 395.96, 409.78, 423.6 , 437.42,\n",
       "        451.24, 465.06, 478.88, 492.7 , 506.52, 520.34, 534.16, 547.98,\n",
       "        561.8 , 575.62, 589.44, 603.26, 617.08, 630.9 , 644.72, 658.54,\n",
       "        672.36, 686.18, 700.  ]),\n",
       " <BarContainer object of 50 artists>)"
      ]
     },
     "execution_count": 22,
     "metadata": {},
     "output_type": "execute_result"
    },
    {
     "data": {
      "image/png": "[encoded data removed]",
      "text/plain": [
       "<Figure size 432x288 with 1 Axes>"
      ]
     },
     "metadata": {
      "needs_background": "light"
     },
     "output_type": "display_data"
    }
   ],
   "source": [
    "plt.hist(loan.Loan_Amount_Requirement, bins=50)"
   ]
  },
  {
   "cell_type": "code",
   "execution_count": 23,
   "id": "2e991288",
   "metadata": {},
   "outputs": [
    {
     "data": {
      "text/plain": [
       "128.0"
      ]
     },
     "execution_count": 23,
     "metadata": {},
     "output_type": "execute_result"
    }
   ],
   "source": [
    "loan['Loan_Amount_Requirement'].median()"
   ]
  },
  {
   "cell_type": "code",
   "execution_count": 24,
   "id": "20252ce0",
   "metadata": {},
   "outputs": [],
   "source": [
    "loan['Loan_Amount_Requirement'].fillna(loan['Loan_Amount_Requirement'].median(),inplace=True)"
   ]
  },
  {
   "cell_type": "markdown",
   "id": "55e9e08f",
   "metadata": {},
   "source": [
    "## As the data is skewed, it is better to use median for replacement instead of mean"
   ]
  },
  {
   "cell_type": "markdown",
   "id": "2957e12a",
   "metadata": {},
   "source": [
    "## As Is_Married criteria has only 3 missing values, we can safely drop it, without loosing valueable information"
   ]
  },
  {
   "cell_type": "code",
   "execution_count": 25,
   "id": "974de9dc",
   "metadata": {},
   "outputs": [],
   "source": [
    "loan.dropna(inplace=True,axis=0)"
   ]
  },
  {
   "cell_type": "markdown",
   "id": "a6364424",
   "metadata": {},
   "source": [
    "## After dealing with missing values, we now have to convert values in all columns to numbers so that we can run different models on it. \n"
   ]
  },
  {
   "cell_type": "code",
   "execution_count": 26,
   "id": "67612081",
   "metadata": {},
   "outputs": [],
   "source": [
    "loan.Is_Married.replace(('Yes','No'),(1,0),inplace=True)"
   ]
  },
  {
   "cell_type": "code",
   "execution_count": 27,
   "id": "25c29ada",
   "metadata": {
    "scrolled": true
   },
   "outputs": [
    {
     "data": {
      "text/html": [
       "<div>\n",
       "<style scoped>\n",
       "    .dataframe tbody tr th:only-of-type {\n",
       "        vertical-align: middle;\n",
       "    }\n",
       "\n",
       "    .dataframe tbody tr th {\n",
       "        vertical-align: top;\n",
       "    }\n",
       "\n",
       "    .dataframe thead th {\n",
       "        text-align: right;\n",
       "    }\n",
       "</style>\n",
       "<table border=\"1\" class=\"dataframe\">\n",
       "  <thead>\n",
       "    <tr style=\"text-align: right;\">\n",
       "      <th></th>\n",
       "      <th>Income_of_Applicant</th>\n",
       "      <th>Income_of_Joint_Applicant</th>\n",
       "      <th>Loan_Amount_Requirement</th>\n",
       "      <th>Loan_Amount_Term</th>\n",
       "      <th>Credit_History</th>\n",
       "      <th>Is_Married</th>\n",
       "      <th>No_of_Dependents</th>\n",
       "      <th>Level_of_Education</th>\n",
       "      <th>IS_Self_Employed</th>\n",
       "      <th>Area_of_Property</th>\n",
       "      <th>Loan_Status</th>\n",
       "    </tr>\n",
       "  </thead>\n",
       "  <tbody>\n",
       "    <tr>\n",
       "      <th>0</th>\n",
       "      <td>5849</td>\n",
       "      <td>0.0</td>\n",
       "      <td>128.0</td>\n",
       "      <td>360.0</td>\n",
       "      <td>1.0</td>\n",
       "      <td>0</td>\n",
       "      <td>0</td>\n",
       "      <td>Graduate</td>\n",
       "      <td>0.0</td>\n",
       "      <td>Urban</td>\n",
       "      <td>Y</td>\n",
       "    </tr>\n",
       "    <tr>\n",
       "      <th>1</th>\n",
       "      <td>4583</td>\n",
       "      <td>1508.0</td>\n",
       "      <td>128.0</td>\n",
       "      <td>360.0</td>\n",
       "      <td>1.0</td>\n",
       "      <td>1</td>\n",
       "      <td>1</td>\n",
       "      <td>Graduate</td>\n",
       "      <td>0.0</td>\n",
       "      <td>Rural</td>\n",
       "      <td>N</td>\n",
       "    </tr>\n",
       "    <tr>\n",
       "      <th>2</th>\n",
       "      <td>3000</td>\n",
       "      <td>0.0</td>\n",
       "      <td>66.0</td>\n",
       "      <td>360.0</td>\n",
       "      <td>1.0</td>\n",
       "      <td>1</td>\n",
       "      <td>0</td>\n",
       "      <td>Graduate</td>\n",
       "      <td>1.0</td>\n",
       "      <td>Urban</td>\n",
       "      <td>Y</td>\n",
       "    </tr>\n",
       "    <tr>\n",
       "      <th>3</th>\n",
       "      <td>2583</td>\n",
       "      <td>2358.0</td>\n",
       "      <td>120.0</td>\n",
       "      <td>360.0</td>\n",
       "      <td>1.0</td>\n",
       "      <td>1</td>\n",
       "      <td>0</td>\n",
       "      <td>Not Graduate</td>\n",
       "      <td>0.0</td>\n",
       "      <td>Urban</td>\n",
       "      <td>Y</td>\n",
       "    </tr>\n",
       "    <tr>\n",
       "      <th>4</th>\n",
       "      <td>6000</td>\n",
       "      <td>0.0</td>\n",
       "      <td>141.0</td>\n",
       "      <td>360.0</td>\n",
       "      <td>1.0</td>\n",
       "      <td>0</td>\n",
       "      <td>0</td>\n",
       "      <td>Graduate</td>\n",
       "      <td>0.0</td>\n",
       "      <td>Urban</td>\n",
       "      <td>Y</td>\n",
       "    </tr>\n",
       "  </tbody>\n",
       "</table>\n",
       "</div>"
      ],
      "text/plain": [
       "   Income_of_Applicant  Income_of_Joint_Applicant  Loan_Amount_Requirement  \\\n",
       "0                 5849                        0.0                    128.0   \n",
       "1                 4583                     1508.0                    128.0   \n",
       "2                 3000                        0.0                     66.0   \n",
       "3                 2583                     2358.0                    120.0   \n",
       "4                 6000                        0.0                    141.0   \n",
       "\n",
       "   Loan_Amount_Term  Credit_History  Is_Married No_of_Dependents  \\\n",
       "0             360.0             1.0           0                0   \n",
       "1             360.0             1.0           1                1   \n",
       "2             360.0             1.0           1                0   \n",
       "3             360.0             1.0           1                0   \n",
       "4             360.0             1.0           0                0   \n",
       "\n",
       "  Level_of_Education  IS_Self_Employed Area_of_Property Loan_Status  \n",
       "0           Graduate               0.0            Urban           Y  \n",
       "1           Graduate               0.0            Rural           N  \n",
       "2           Graduate               1.0            Urban           Y  \n",
       "3       Not Graduate               0.0            Urban           Y  \n",
       "4           Graduate               0.0            Urban           Y  "
      ]
     },
     "execution_count": 27,
     "metadata": {},
     "output_type": "execute_result"
    }
   ],
   "source": [
    "loan.head(5)\n"
   ]
  },
  {
   "cell_type": "code",
   "execution_count": 28,
   "id": "4b6f4980",
   "metadata": {},
   "outputs": [
    {
     "data": {
      "text/plain": [
       "(611, 11)"
      ]
     },
     "execution_count": 28,
     "metadata": {},
     "output_type": "execute_result"
    }
   ],
   "source": [
    "loan.shape"
   ]
  },
  {
   "cell_type": "code",
   "execution_count": 29,
   "id": "87997912",
   "metadata": {},
   "outputs": [],
   "source": [
    "loan.Level_of_Education.replace(('Graduate','Not Graduate'),(1,0),inplace=True)"
   ]
  },
  {
   "cell_type": "markdown",
   "id": "416c9577",
   "metadata": {},
   "source": [
    "## One hot encoding area of property column"
   ]
  },
  {
   "cell_type": "code",
   "execution_count": 30,
   "id": "ca3102f2",
   "metadata": {},
   "outputs": [],
   "source": [
    "loan1=pd.get_dummies(loan, columns=['Area_of_Property'])"
   ]
  },
  {
   "cell_type": "code",
   "execution_count": 31,
   "id": "41fd9f01",
   "metadata": {},
   "outputs": [
    {
     "data": {
      "text/html": [
       "<div>\n",
       "<style scoped>\n",
       "    .dataframe tbody tr th:only-of-type {\n",
       "        vertical-align: middle;\n",
       "    }\n",
       "\n",
       "    .dataframe tbody tr th {\n",
       "        vertical-align: top;\n",
       "    }\n",
       "\n",
       "    .dataframe thead th {\n",
       "        text-align: right;\n",
       "    }\n",
       "</style>\n",
       "<table border=\"1\" class=\"dataframe\">\n",
       "  <thead>\n",
       "    <tr style=\"text-align: right;\">\n",
       "      <th></th>\n",
       "      <th>Income_of_Applicant</th>\n",
       "      <th>Income_of_Joint_Applicant</th>\n",
       "      <th>Loan_Amount_Requirement</th>\n",
       "      <th>Loan_Amount_Term</th>\n",
       "      <th>Credit_History</th>\n",
       "      <th>Is_Married</th>\n",
       "      <th>No_of_Dependents</th>\n",
       "      <th>Level_of_Education</th>\n",
       "      <th>IS_Self_Employed</th>\n",
       "      <th>Loan_Status</th>\n",
       "      <th>Area_of_Property_Rural</th>\n",
       "      <th>Area_of_Property_Semiurban</th>\n",
       "      <th>Area_of_Property_Urban</th>\n",
       "    </tr>\n",
       "  </thead>\n",
       "  <tbody>\n",
       "    <tr>\n",
       "      <th>0</th>\n",
       "      <td>5849</td>\n",
       "      <td>0.0</td>\n",
       "      <td>128.0</td>\n",
       "      <td>360.0</td>\n",
       "      <td>1.0</td>\n",
       "      <td>0</td>\n",
       "      <td>0</td>\n",
       "      <td>1</td>\n",
       "      <td>0.0</td>\n",
       "      <td>Y</td>\n",
       "      <td>0</td>\n",
       "      <td>0</td>\n",
       "      <td>1</td>\n",
       "    </tr>\n",
       "    <tr>\n",
       "      <th>1</th>\n",
       "      <td>4583</td>\n",
       "      <td>1508.0</td>\n",
       "      <td>128.0</td>\n",
       "      <td>360.0</td>\n",
       "      <td>1.0</td>\n",
       "      <td>1</td>\n",
       "      <td>1</td>\n",
       "      <td>1</td>\n",
       "      <td>0.0</td>\n",
       "      <td>N</td>\n",
       "      <td>1</td>\n",
       "      <td>0</td>\n",
       "      <td>0</td>\n",
       "    </tr>\n",
       "    <tr>\n",
       "      <th>2</th>\n",
       "      <td>3000</td>\n",
       "      <td>0.0</td>\n",
       "      <td>66.0</td>\n",
       "      <td>360.0</td>\n",
       "      <td>1.0</td>\n",
       "      <td>1</td>\n",
       "      <td>0</td>\n",
       "      <td>1</td>\n",
       "      <td>1.0</td>\n",
       "      <td>Y</td>\n",
       "      <td>0</td>\n",
       "      <td>0</td>\n",
       "      <td>1</td>\n",
       "    </tr>\n",
       "    <tr>\n",
       "      <th>3</th>\n",
       "      <td>2583</td>\n",
       "      <td>2358.0</td>\n",
       "      <td>120.0</td>\n",
       "      <td>360.0</td>\n",
       "      <td>1.0</td>\n",
       "      <td>1</td>\n",
       "      <td>0</td>\n",
       "      <td>0</td>\n",
       "      <td>0.0</td>\n",
       "      <td>Y</td>\n",
       "      <td>0</td>\n",
       "      <td>0</td>\n",
       "      <td>1</td>\n",
       "    </tr>\n",
       "    <tr>\n",
       "      <th>4</th>\n",
       "      <td>6000</td>\n",
       "      <td>0.0</td>\n",
       "      <td>141.0</td>\n",
       "      <td>360.0</td>\n",
       "      <td>1.0</td>\n",
       "      <td>0</td>\n",
       "      <td>0</td>\n",
       "      <td>1</td>\n",
       "      <td>0.0</td>\n",
       "      <td>Y</td>\n",
       "      <td>0</td>\n",
       "      <td>0</td>\n",
       "      <td>1</td>\n",
       "    </tr>\n",
       "    <tr>\n",
       "      <th>...</th>\n",
       "      <td>...</td>\n",
       "      <td>...</td>\n",
       "      <td>...</td>\n",
       "      <td>...</td>\n",
       "      <td>...</td>\n",
       "      <td>...</td>\n",
       "      <td>...</td>\n",
       "      <td>...</td>\n",
       "      <td>...</td>\n",
       "      <td>...</td>\n",
       "      <td>...</td>\n",
       "      <td>...</td>\n",
       "      <td>...</td>\n",
       "    </tr>\n",
       "    <tr>\n",
       "      <th>609</th>\n",
       "      <td>2900</td>\n",
       "      <td>0.0</td>\n",
       "      <td>71.0</td>\n",
       "      <td>360.0</td>\n",
       "      <td>1.0</td>\n",
       "      <td>0</td>\n",
       "      <td>0</td>\n",
       "      <td>1</td>\n",
       "      <td>0.0</td>\n",
       "      <td>Y</td>\n",
       "      <td>1</td>\n",
       "      <td>0</td>\n",
       "      <td>0</td>\n",
       "    </tr>\n",
       "    <tr>\n",
       "      <th>610</th>\n",
       "      <td>4106</td>\n",
       "      <td>0.0</td>\n",
       "      <td>40.0</td>\n",
       "      <td>180.0</td>\n",
       "      <td>1.0</td>\n",
       "      <td>1</td>\n",
       "      <td>3</td>\n",
       "      <td>1</td>\n",
       "      <td>0.0</td>\n",
       "      <td>Y</td>\n",
       "      <td>1</td>\n",
       "      <td>0</td>\n",
       "      <td>0</td>\n",
       "    </tr>\n",
       "    <tr>\n",
       "      <th>611</th>\n",
       "      <td>8072</td>\n",
       "      <td>240.0</td>\n",
       "      <td>253.0</td>\n",
       "      <td>360.0</td>\n",
       "      <td>1.0</td>\n",
       "      <td>1</td>\n",
       "      <td>1</td>\n",
       "      <td>1</td>\n",
       "      <td>0.0</td>\n",
       "      <td>Y</td>\n",
       "      <td>0</td>\n",
       "      <td>0</td>\n",
       "      <td>1</td>\n",
       "    </tr>\n",
       "    <tr>\n",
       "      <th>612</th>\n",
       "      <td>7583</td>\n",
       "      <td>0.0</td>\n",
       "      <td>187.0</td>\n",
       "      <td>360.0</td>\n",
       "      <td>1.0</td>\n",
       "      <td>1</td>\n",
       "      <td>2</td>\n",
       "      <td>1</td>\n",
       "      <td>0.0</td>\n",
       "      <td>Y</td>\n",
       "      <td>0</td>\n",
       "      <td>0</td>\n",
       "      <td>1</td>\n",
       "    </tr>\n",
       "    <tr>\n",
       "      <th>613</th>\n",
       "      <td>4583</td>\n",
       "      <td>0.0</td>\n",
       "      <td>133.0</td>\n",
       "      <td>360.0</td>\n",
       "      <td>0.0</td>\n",
       "      <td>0</td>\n",
       "      <td>0</td>\n",
       "      <td>1</td>\n",
       "      <td>1.0</td>\n",
       "      <td>N</td>\n",
       "      <td>0</td>\n",
       "      <td>1</td>\n",
       "      <td>0</td>\n",
       "    </tr>\n",
       "  </tbody>\n",
       "</table>\n",
       "<p>611 rows × 13 columns</p>\n",
       "</div>"
      ],
      "text/plain": [
       "     Income_of_Applicant  Income_of_Joint_Applicant  Loan_Amount_Requirement  \\\n",
       "0                   5849                        0.0                    128.0   \n",
       "1                   4583                     1508.0                    128.0   \n",
       "2                   3000                        0.0                     66.0   \n",
       "3                   2583                     2358.0                    120.0   \n",
       "4                   6000                        0.0                    141.0   \n",
       "..                   ...                        ...                      ...   \n",
       "609                 2900                        0.0                     71.0   \n",
       "610                 4106                        0.0                     40.0   \n",
       "611                 8072                      240.0                    253.0   \n",
       "612                 7583                        0.0                    187.0   \n",
       "613                 4583                        0.0                    133.0   \n",
       "\n",
       "     Loan_Amount_Term  Credit_History  Is_Married No_of_Dependents  \\\n",
       "0               360.0             1.0           0                0   \n",
       "1               360.0             1.0           1                1   \n",
       "2               360.0             1.0           1                0   \n",
       "3               360.0             1.0           1                0   \n",
       "4               360.0             1.0           0                0   \n",
       "..                ...             ...         ...              ...   \n",
       "609             360.0             1.0           0                0   \n",
       "610             180.0             1.0           1                3   \n",
       "611             360.0             1.0           1                1   \n",
       "612             360.0             1.0           1                2   \n",
       "613             360.0             0.0           0                0   \n",
       "\n",
       "     Level_of_Education  IS_Self_Employed Loan_Status  Area_of_Property_Rural  \\\n",
       "0                     1               0.0           Y                       0   \n",
       "1                     1               0.0           N                       1   \n",
       "2                     1               1.0           Y                       0   \n",
       "3                     0               0.0           Y                       0   \n",
       "4                     1               0.0           Y                       0   \n",
       "..                  ...               ...         ...                     ...   \n",
       "609                   1               0.0           Y                       1   \n",
       "610                   1               0.0           Y                       1   \n",
       "611                   1               0.0           Y                       0   \n",
       "612                   1               0.0           Y                       0   \n",
       "613                   1               1.0           N                       0   \n",
       "\n",
       "     Area_of_Property_Semiurban  Area_of_Property_Urban  \n",
       "0                             0                       1  \n",
       "1                             0                       0  \n",
       "2                             0                       1  \n",
       "3                             0                       1  \n",
       "4                             0                       1  \n",
       "..                          ...                     ...  \n",
       "609                           0                       0  \n",
       "610                           0                       0  \n",
       "611                           0                       1  \n",
       "612                           0                       1  \n",
       "613                           1                       0  \n",
       "\n",
       "[611 rows x 13 columns]"
      ]
     },
     "execution_count": 31,
     "metadata": {},
     "output_type": "execute_result"
    }
   ],
   "source": [
    "loan1"
   ]
  },
  {
   "cell_type": "code",
   "execution_count": 32,
   "id": "64941569",
   "metadata": {},
   "outputs": [
    {
     "data": {
      "text/plain": [
       "(611, 13)"
      ]
     },
     "execution_count": 32,
     "metadata": {},
     "output_type": "execute_result"
    }
   ],
   "source": [
    "loan1.shape"
   ]
  },
  {
   "cell_type": "code",
   "execution_count": 33,
   "id": "050e0844",
   "metadata": {},
   "outputs": [
    {
     "data": {
      "text/html": [
       "<div>\n",
       "<style scoped>\n",
       "    .dataframe tbody tr th:only-of-type {\n",
       "        vertical-align: middle;\n",
       "    }\n",
       "\n",
       "    .dataframe tbody tr th {\n",
       "        vertical-align: top;\n",
       "    }\n",
       "\n",
       "    .dataframe thead th {\n",
       "        text-align: right;\n",
       "    }\n",
       "</style>\n",
       "<table border=\"1\" class=\"dataframe\">\n",
       "  <thead>\n",
       "    <tr style=\"text-align: right;\">\n",
       "      <th></th>\n",
       "      <th>Income_of_Applicant</th>\n",
       "      <th>Income_of_Joint_Applicant</th>\n",
       "      <th>Loan_Amount_Requirement</th>\n",
       "      <th>Loan_Amount_Term</th>\n",
       "      <th>Credit_History</th>\n",
       "      <th>Is_Married</th>\n",
       "      <th>No_of_Dependents</th>\n",
       "      <th>Level_of_Education</th>\n",
       "      <th>IS_Self_Employed</th>\n",
       "      <th>Loan_Status</th>\n",
       "      <th>Area_of_Property_Rural</th>\n",
       "      <th>Area_of_Property_Semiurban</th>\n",
       "      <th>Area_of_Property_Urban</th>\n",
       "    </tr>\n",
       "  </thead>\n",
       "  <tbody>\n",
       "    <tr>\n",
       "      <th>0</th>\n",
       "      <td>5849</td>\n",
       "      <td>0.0</td>\n",
       "      <td>128.0</td>\n",
       "      <td>360.0</td>\n",
       "      <td>1.0</td>\n",
       "      <td>0</td>\n",
       "      <td>0</td>\n",
       "      <td>1</td>\n",
       "      <td>0.0</td>\n",
       "      <td>Y</td>\n",
       "      <td>0</td>\n",
       "      <td>0</td>\n",
       "      <td>1</td>\n",
       "    </tr>\n",
       "    <tr>\n",
       "      <th>1</th>\n",
       "      <td>4583</td>\n",
       "      <td>1508.0</td>\n",
       "      <td>128.0</td>\n",
       "      <td>360.0</td>\n",
       "      <td>1.0</td>\n",
       "      <td>1</td>\n",
       "      <td>1</td>\n",
       "      <td>1</td>\n",
       "      <td>0.0</td>\n",
       "      <td>N</td>\n",
       "      <td>1</td>\n",
       "      <td>0</td>\n",
       "      <td>0</td>\n",
       "    </tr>\n",
       "    <tr>\n",
       "      <th>2</th>\n",
       "      <td>3000</td>\n",
       "      <td>0.0</td>\n",
       "      <td>66.0</td>\n",
       "      <td>360.0</td>\n",
       "      <td>1.0</td>\n",
       "      <td>1</td>\n",
       "      <td>0</td>\n",
       "      <td>1</td>\n",
       "      <td>1.0</td>\n",
       "      <td>Y</td>\n",
       "      <td>0</td>\n",
       "      <td>0</td>\n",
       "      <td>1</td>\n",
       "    </tr>\n",
       "    <tr>\n",
       "      <th>3</th>\n",
       "      <td>2583</td>\n",
       "      <td>2358.0</td>\n",
       "      <td>120.0</td>\n",
       "      <td>360.0</td>\n",
       "      <td>1.0</td>\n",
       "      <td>1</td>\n",
       "      <td>0</td>\n",
       "      <td>0</td>\n",
       "      <td>0.0</td>\n",
       "      <td>Y</td>\n",
       "      <td>0</td>\n",
       "      <td>0</td>\n",
       "      <td>1</td>\n",
       "    </tr>\n",
       "    <tr>\n",
       "      <th>4</th>\n",
       "      <td>6000</td>\n",
       "      <td>0.0</td>\n",
       "      <td>141.0</td>\n",
       "      <td>360.0</td>\n",
       "      <td>1.0</td>\n",
       "      <td>0</td>\n",
       "      <td>0</td>\n",
       "      <td>1</td>\n",
       "      <td>0.0</td>\n",
       "      <td>Y</td>\n",
       "      <td>0</td>\n",
       "      <td>0</td>\n",
       "      <td>1</td>\n",
       "    </tr>\n",
       "  </tbody>\n",
       "</table>\n",
       "</div>"
      ],
      "text/plain": [
       "   Income_of_Applicant  Income_of_Joint_Applicant  Loan_Amount_Requirement  \\\n",
       "0                 5849                        0.0                    128.0   \n",
       "1                 4583                     1508.0                    128.0   \n",
       "2                 3000                        0.0                     66.0   \n",
       "3                 2583                     2358.0                    120.0   \n",
       "4                 6000                        0.0                    141.0   \n",
       "\n",
       "   Loan_Amount_Term  Credit_History  Is_Married No_of_Dependents  \\\n",
       "0             360.0             1.0           0                0   \n",
       "1             360.0             1.0           1                1   \n",
       "2             360.0             1.0           1                0   \n",
       "3             360.0             1.0           1                0   \n",
       "4             360.0             1.0           0                0   \n",
       "\n",
       "   Level_of_Education  IS_Self_Employed Loan_Status  Area_of_Property_Rural  \\\n",
       "0                   1               0.0           Y                       0   \n",
       "1                   1               0.0           N                       1   \n",
       "2                   1               1.0           Y                       0   \n",
       "3                   0               0.0           Y                       0   \n",
       "4                   1               0.0           Y                       0   \n",
       "\n",
       "   Area_of_Property_Semiurban  Area_of_Property_Urban  \n",
       "0                           0                       1  \n",
       "1                           0                       0  \n",
       "2                           0                       1  \n",
       "3                           0                       1  \n",
       "4                           0                       1  "
      ]
     },
     "execution_count": 33,
     "metadata": {},
     "output_type": "execute_result"
    }
   ],
   "source": [
    "loan1.head(5)"
   ]
  },
  {
   "cell_type": "code",
   "execution_count": 34,
   "id": "e52c33e2",
   "metadata": {},
   "outputs": [
    {
     "data": {
      "image/png": "[encoded data removed]",
      "text/plain": [
       "<Figure size 1440x1080 with 12 Axes>"
      ]
     },
     "metadata": {
      "needs_background": "light"
     },
     "output_type": "display_data"
    }
   ],
   "source": [
    "import matplotlib.pyplot as plt\n",
    "loan1.hist(bins=50, figsize=(20,15))\n",
    "plt.show()"
   ]
  },
  {
   "cell_type": "markdown",
   "id": "2466ef84",
   "metadata": {},
   "source": [
    "## From above plots, we can infer that there are some applicants with very high income, we will not remove them as this situation is a reality and not by mistake"
   ]
  },
  {
   "cell_type": "code",
   "execution_count": 35,
   "id": "c3305eb7",
   "metadata": {},
   "outputs": [
    {
     "data": {
      "text/plain": [
       "Y    419\n",
       "N    192\n",
       "Name: Loan_Status, dtype: int64"
      ]
     },
     "execution_count": 35,
     "metadata": {},
     "output_type": "execute_result"
    }
   ],
   "source": [
    "loan1.Loan_Status.value_counts()"
   ]
  },
  {
   "cell_type": "code",
   "execution_count": 36,
   "id": "7885d7bd",
   "metadata": {},
   "outputs": [],
   "source": [
    "loan1.Loan_Status.replace(('Y','N'),(1,0),inplace=True)"
   ]
  },
  {
   "cell_type": "code",
   "execution_count": 37,
   "id": "374cfe00",
   "metadata": {},
   "outputs": [],
   "source": [
    "X=loan1.drop(['Loan_Status'],axis=1)\n",
    "Y=loan1.Loan_Status"
   ]
  },
  {
   "cell_type": "markdown",
   "id": "891a8a8d",
   "metadata": {},
   "source": [
    "## As the dataset is imbalanced, we need to balance it. We can perform undersampling or oversampling. In case of undersampling there is a risk of loosing valueable information, so we will oversample using SMOTE."
   ]
  },
  {
   "cell_type": "code",
   "execution_count": 38,
   "id": "7f737fbd",
   "metadata": {},
   "outputs": [],
   "source": [
    "oversample = SMOTE(random_state=101)\n",
    "X, Y = oversample.fit_resample(X,Y)"
   ]
  },
  {
   "cell_type": "code",
   "execution_count": 39,
   "id": "f30f89c3",
   "metadata": {},
   "outputs": [
    {
     "data": {
      "text/plain": [
       "1    419\n",
       "0    419\n",
       "Name: Loan_Status, dtype: int64"
      ]
     },
     "execution_count": 39,
     "metadata": {},
     "output_type": "execute_result"
    }
   ],
   "source": [
    "Y.value_counts()"
   ]
  },
  {
   "cell_type": "markdown",
   "id": "9b232bdc",
   "metadata": {},
   "source": [
    "## Dividing train test data in ratio 3:1"
   ]
  },
  {
   "cell_type": "code",
   "execution_count": 40,
   "id": "76266ece",
   "metadata": {},
   "outputs": [],
   "source": [
    "X_train,X_test,Y_train,Y_test=train_test_split(X,Y,test_size=0.25, random_state=6)"
   ]
  },
  {
   "cell_type": "code",
   "execution_count": 41,
   "id": "d1a77065",
   "metadata": {},
   "outputs": [
    {
     "data": {
      "text/plain": [
       "0    108\n",
       "1    102\n",
       "Name: Loan_Status, dtype: int64"
      ]
     },
     "execution_count": 41,
     "metadata": {},
     "output_type": "execute_result"
    }
   ],
   "source": [
    "Y_test.value_counts()"
   ]
  },
  {
   "cell_type": "markdown",
   "id": "f75444c3",
   "metadata": {},
   "source": [
    "## Applying Different ML models\n",
    "## Logistic Regression"
   ]
  },
  {
   "cell_type": "code",
   "execution_count": 42,
   "id": "32715611",
   "metadata": {},
   "outputs": [
    {
     "name": "stdout",
     "output_type": "stream",
     "text": [
      "              precision    recall  f1-score   support\n",
      "\n",
      "           0       0.93      0.72      0.81       108\n",
      "           1       0.76      0.94      0.84       102\n",
      "\n",
      "    accuracy                           0.83       210\n",
      "   macro avg       0.85      0.83      0.83       210\n",
      "weighted avg       0.85      0.83      0.83       210\n",
      "\n"
     ]
    }
   ],
   "source": [
    "LR = LogisticRegression(solver='liblinear',max_iter=1000,C=2,penalty='l1')\n",
    "LRmodel=LR.fit(X_train,Y_train)\n",
    "y_pred=LRmodel.predict(X_test)\n",
    "\n",
    "\n",
    "#print(\"Accuracy is:\", accuracy_score(Y_test,y_pred))\n",
    "print(classification_report(Y_test,y_pred))"
   ]
  },
  {
   "cell_type": "markdown",
   "id": "d566f662",
   "metadata": {},
   "source": [
    "## Random Forest"
   ]
  },
  {
   "cell_type": "code",
   "execution_count": 43,
   "id": "8f8eecab",
   "metadata": {},
   "outputs": [
    {
     "name": "stdout",
     "output_type": "stream",
     "text": [
      "              precision    recall  f1-score   support\n",
      "\n",
      "           0       0.93      0.78      0.85       108\n",
      "           1       0.80      0.94      0.86       102\n",
      "\n",
      "    accuracy                           0.86       210\n",
      "   macro avg       0.87      0.86      0.86       210\n",
      "weighted avg       0.87      0.86      0.86       210\n",
      "\n"
     ]
    }
   ],
   "source": [
    "RFC = RandomForestClassifier(random_state=100)\n",
    "RFCmodel=RFC.fit(X_train,Y_train)\n",
    "y_pred=RFCmodel.predict(X_test)\n",
    "print(classification_report(Y_test,y_pred))"
   ]
  },
  {
   "cell_type": "markdown",
   "id": "c1e0da80",
   "metadata": {},
   "source": [
    "## Naive Bayes"
   ]
  },
  {
   "cell_type": "code",
   "execution_count": 44,
   "id": "9c88519e",
   "metadata": {},
   "outputs": [
    {
     "name": "stdout",
     "output_type": "stream",
     "text": [
      "              precision    recall  f1-score   support\n",
      "\n",
      "           0       0.90      0.51      0.65       108\n",
      "           1       0.64      0.94      0.76       102\n",
      "\n",
      "    accuracy                           0.72       210\n",
      "   macro avg       0.77      0.73      0.71       210\n",
      "weighted avg       0.78      0.72      0.71       210\n",
      "\n"
     ]
    }
   ],
   "source": [
    "from sklearn.naive_bayes import GaussianNB\n",
    "NVB = GaussianNB()\n",
    "NVBclf = NVB.fit(X_train,Y_train)\n",
    "y_pred=NVBclf.predict(X_test)\n",
    "print(classification_report(Y_test,y_pred))"
   ]
  },
  {
   "cell_type": "markdown",
   "id": "51972f8d",
   "metadata": {},
   "source": [
    "## Support Vector Classifier"
   ]
  },
  {
   "cell_type": "code",
   "execution_count": 45,
   "id": "2cf6abc4",
   "metadata": {},
   "outputs": [
    {
     "name": "stdout",
     "output_type": "stream",
     "text": [
      "              precision    recall  f1-score   support\n",
      "\n",
      "           0       0.90      0.51      0.65       108\n",
      "           1       0.64      0.94      0.76       102\n",
      "\n",
      "    accuracy                           0.72       210\n",
      "   macro avg       0.77      0.73      0.71       210\n",
      "weighted avg       0.78      0.72      0.71       210\n",
      "\n"
     ]
    }
   ],
   "source": [
    "from sklearn.svm import SVC\n",
    "SVC1 = GaussianNB()\n",
    "SVC1clf = SVC1.fit(X_train,Y_train)\n",
    "y_pred=SVC1clf.predict(X_test)\n",
    "print(classification_report(Y_test,y_pred))"
   ]
  },
  {
   "cell_type": "markdown",
   "id": "9053de65",
   "metadata": {},
   "source": [
    "## Decision Tree Classifier"
   ]
  },
  {
   "cell_type": "code",
   "execution_count": 46,
   "id": "5bfe4d35",
   "metadata": {},
   "outputs": [
    {
     "name": "stdout",
     "output_type": "stream",
     "text": [
      "              precision    recall  f1-score   support\n",
      "\n",
      "           0       0.85      0.80      0.82       108\n",
      "           1       0.80      0.85      0.82       102\n",
      "\n",
      "    accuracy                           0.82       210\n",
      "   macro avg       0.82      0.82      0.82       210\n",
      "weighted avg       0.83      0.82      0.82       210\n",
      "\n"
     ]
    }
   ],
   "source": [
    "DTC= DecisionTreeClassifier()\n",
    "DTCmodel=DTC.fit(X_train,Y_train)\n",
    "y_pred=DTCmodel.predict(X_test)\n",
    "print(classification_report(Y_test,y_pred))"
   ]
  },
  {
   "cell_type": "markdown",
   "id": "f2562555",
   "metadata": {},
   "source": [
    "# It is observed that highest accuracy and F1 Scores is obtained in case of Random Forest. \n",
    "# Accuracy obtained = 86%"
   ]
  },
  {
   "cell_type": "code",
   "execution_count": null,
   "id": "bd9da6d6",
   "metadata": {},
   "outputs": [],
   "source": []
  }
 ],
 "metadata": {
  "kernelspec": {
   "display_name": "Python 3 (ipykernel)",
   "language": "python",
   "name": "python3"
  },
  "language_info": {
   "codemirror_mode": {
    "name": "ipython",
    "version": 3
   },
   "file_extension": ".py",
   "mimetype": "text/x-python",
   "name": "python",
   "nbconvert_exporter": "python",
   "pygments_lexer": "ipython3",
   "version": "3.9.7"
  }
 },
 "nbformat": 4,
 "nbformat_minor": 5
}
